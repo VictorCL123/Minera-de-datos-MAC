{
 "cells": [
  {
   "cell_type": "code",
   "execution_count": 1,
   "metadata": {},
   "outputs": [],
   "source": [
    "import pandas as pd\n",
    "import numpy as np\n",
    "import matplotlib\n",
    "import matplotlib.pyplot as plt\n",
    "import seaborn as sns\n",
    "import statsmodels.api as sm\n",
    "\n",
    "from sklearn.model_selection import train_test_split\n",
    "from sklearn.linear_model import LinearRegression\n",
    "from sklearn.feature_selection import RFE\n",
    "from sklearn.linear_model import RidgeCV, LassoCV, Ridge, Lasso\n",
    "%matplotlib inline"
   ]
  },
  {
   "cell_type": "code",
   "execution_count": 2,
   "metadata": {},
   "outputs": [],
   "source": [
    "ruta = \"tabla_final.csv\"\n",
    "df = pd.read_csv(ruta)"
   ]
  },
  {
   "cell_type": "code",
   "execution_count": 3,
   "metadata": {},
   "outputs": [
    {
     "data": {
      "text/html": [
       "<div>\n",
       "<style scoped>\n",
       "    .dataframe tbody tr th:only-of-type {\n",
       "        vertical-align: middle;\n",
       "    }\n",
       "\n",
       "    .dataframe tbody tr th {\n",
       "        vertical-align: top;\n",
       "    }\n",
       "\n",
       "    .dataframe thead th {\n",
       "        text-align: right;\n",
       "    }\n",
       "</style>\n",
       "<table border=\"1\" class=\"dataframe\">\n",
       "  <thead>\n",
       "    <tr style=\"text-align: right;\">\n",
       "      <th></th>\n",
       "      <th>EXT1</th>\n",
       "      <th>EXT2</th>\n",
       "      <th>EXT3</th>\n",
       "      <th>EXT4</th>\n",
       "      <th>EXT5</th>\n",
       "      <th>EXT6</th>\n",
       "      <th>EXT7</th>\n",
       "      <th>EXT8</th>\n",
       "      <th>EXT9</th>\n",
       "      <th>EXT10</th>\n",
       "      <th>...</th>\n",
       "      <th>OPN8</th>\n",
       "      <th>OPN9</th>\n",
       "      <th>OPN10</th>\n",
       "      <th>dateload</th>\n",
       "      <th>introelapse</th>\n",
       "      <th>testelapse</th>\n",
       "      <th>endelapse</th>\n",
       "      <th>country</th>\n",
       "      <th>lat_appx_lots_of_err</th>\n",
       "      <th>long_appx_lots_of_err</th>\n",
       "    </tr>\n",
       "  </thead>\n",
       "  <tbody>\n",
       "    <tr>\n",
       "      <td>0</td>\n",
       "      <td>4.0</td>\n",
       "      <td>1.0</td>\n",
       "      <td>5.0</td>\n",
       "      <td>2.0</td>\n",
       "      <td>5.0</td>\n",
       "      <td>1.0</td>\n",
       "      <td>5.0</td>\n",
       "      <td>2.0</td>\n",
       "      <td>4.0</td>\n",
       "      <td>1.0</td>\n",
       "      <td>...</td>\n",
       "      <td>3.0</td>\n",
       "      <td>4.0</td>\n",
       "      <td>5.0</td>\n",
       "      <td>2016-03-03 02:01:01</td>\n",
       "      <td>9.0</td>\n",
       "      <td>234.0</td>\n",
       "      <td>6</td>\n",
       "      <td>GB</td>\n",
       "      <td>51.5448</td>\n",
       "      <td>0.1991</td>\n",
       "    </tr>\n",
       "    <tr>\n",
       "      <td>1</td>\n",
       "      <td>3.0</td>\n",
       "      <td>5.0</td>\n",
       "      <td>3.0</td>\n",
       "      <td>4.0</td>\n",
       "      <td>3.0</td>\n",
       "      <td>3.0</td>\n",
       "      <td>2.0</td>\n",
       "      <td>5.0</td>\n",
       "      <td>1.0</td>\n",
       "      <td>5.0</td>\n",
       "      <td>...</td>\n",
       "      <td>2.0</td>\n",
       "      <td>5.0</td>\n",
       "      <td>3.0</td>\n",
       "      <td>2016-03-03 02:01:20</td>\n",
       "      <td>12.0</td>\n",
       "      <td>179.0</td>\n",
       "      <td>11</td>\n",
       "      <td>MY</td>\n",
       "      <td>3.1698</td>\n",
       "      <td>101.706</td>\n",
       "    </tr>\n",
       "    <tr>\n",
       "      <td>2</td>\n",
       "      <td>2.0</td>\n",
       "      <td>3.0</td>\n",
       "      <td>4.0</td>\n",
       "      <td>4.0</td>\n",
       "      <td>3.0</td>\n",
       "      <td>2.0</td>\n",
       "      <td>1.0</td>\n",
       "      <td>3.0</td>\n",
       "      <td>2.0</td>\n",
       "      <td>5.0</td>\n",
       "      <td>...</td>\n",
       "      <td>3.0</td>\n",
       "      <td>4.0</td>\n",
       "      <td>4.0</td>\n",
       "      <td>2016-03-03 02:01:56</td>\n",
       "      <td>3.0</td>\n",
       "      <td>186.0</td>\n",
       "      <td>7</td>\n",
       "      <td>GB</td>\n",
       "      <td>54.9119</td>\n",
       "      <td>-1.3833</td>\n",
       "    </tr>\n",
       "    <tr>\n",
       "      <td>3</td>\n",
       "      <td>2.0</td>\n",
       "      <td>2.0</td>\n",
       "      <td>2.0</td>\n",
       "      <td>3.0</td>\n",
       "      <td>4.0</td>\n",
       "      <td>2.0</td>\n",
       "      <td>2.0</td>\n",
       "      <td>4.0</td>\n",
       "      <td>1.0</td>\n",
       "      <td>4.0</td>\n",
       "      <td>...</td>\n",
       "      <td>4.0</td>\n",
       "      <td>3.0</td>\n",
       "      <td>3.0</td>\n",
       "      <td>2016-03-03 02:02:02</td>\n",
       "      <td>186.0</td>\n",
       "      <td>219.0</td>\n",
       "      <td>7</td>\n",
       "      <td>GB</td>\n",
       "      <td>51.75</td>\n",
       "      <td>-1.25</td>\n",
       "    </tr>\n",
       "    <tr>\n",
       "      <td>4</td>\n",
       "      <td>3.0</td>\n",
       "      <td>3.0</td>\n",
       "      <td>4.0</td>\n",
       "      <td>2.0</td>\n",
       "      <td>4.0</td>\n",
       "      <td>2.0</td>\n",
       "      <td>2.0</td>\n",
       "      <td>3.0</td>\n",
       "      <td>3.0</td>\n",
       "      <td>4.0</td>\n",
       "      <td>...</td>\n",
       "      <td>4.0</td>\n",
       "      <td>5.0</td>\n",
       "      <td>2.0</td>\n",
       "      <td>2016-03-03 02:02:57</td>\n",
       "      <td>8.0</td>\n",
       "      <td>315.0</td>\n",
       "      <td>17</td>\n",
       "      <td>KE</td>\n",
       "      <td>1.0</td>\n",
       "      <td>38.0</td>\n",
       "    </tr>\n",
       "  </tbody>\n",
       "</table>\n",
       "<p>5 rows × 57 columns</p>\n",
       "</div>"
      ],
      "text/plain": [
       "   EXT1  EXT2  EXT3  EXT4  EXT5  EXT6  EXT7  EXT8  EXT9  EXT10  ...  OPN8  \\\n",
       "0   4.0   1.0   5.0   2.0   5.0   1.0   5.0   2.0   4.0    1.0  ...   3.0   \n",
       "1   3.0   5.0   3.0   4.0   3.0   3.0   2.0   5.0   1.0    5.0  ...   2.0   \n",
       "2   2.0   3.0   4.0   4.0   3.0   2.0   1.0   3.0   2.0    5.0  ...   3.0   \n",
       "3   2.0   2.0   2.0   3.0   4.0   2.0   2.0   4.0   1.0    4.0  ...   4.0   \n",
       "4   3.0   3.0   4.0   2.0   4.0   2.0   2.0   3.0   3.0    4.0  ...   4.0   \n",
       "\n",
       "   OPN9  OPN10             dateload  introelapse  testelapse  endelapse  \\\n",
       "0   4.0    5.0  2016-03-03 02:01:01          9.0       234.0          6   \n",
       "1   5.0    3.0  2016-03-03 02:01:20         12.0       179.0         11   \n",
       "2   4.0    4.0  2016-03-03 02:01:56          3.0       186.0          7   \n",
       "3   3.0    3.0  2016-03-03 02:02:02        186.0       219.0          7   \n",
       "4   5.0    2.0  2016-03-03 02:02:57          8.0       315.0         17   \n",
       "\n",
       "   country  lat_appx_lots_of_err  long_appx_lots_of_err  \n",
       "0       GB               51.5448                 0.1991  \n",
       "1       MY                3.1698                101.706  \n",
       "2       GB               54.9119                -1.3833  \n",
       "3       GB                 51.75                  -1.25  \n",
       "4       KE                   1.0                   38.0  \n",
       "\n",
       "[5 rows x 57 columns]"
      ]
     },
     "execution_count": 3,
     "metadata": {},
     "output_type": "execute_result"
    }
   ],
   "source": [
    "df.head()"
   ]
  },
  {
   "cell_type": "code",
   "execution_count": 4,
   "metadata": {},
   "outputs": [
    {
     "data": {
      "text/plain": [
       "EXT1                     float64\n",
       "EXT2                     float64\n",
       "EXT3                     float64\n",
       "EXT4                     float64\n",
       "EXT5                     float64\n",
       "EXT6                     float64\n",
       "EXT7                     float64\n",
       "EXT8                     float64\n",
       "EXT9                     float64\n",
       "EXT10                    float64\n",
       "EST1                     float64\n",
       "EST2                     float64\n",
       "EST3                     float64\n",
       "EST4                     float64\n",
       "EST5                     float64\n",
       "EST6                     float64\n",
       "EST7                     float64\n",
       "EST8                     float64\n",
       "EST9                     float64\n",
       "EST10                    float64\n",
       "AGR1                     float64\n",
       "AGR2                     float64\n",
       "AGR3                     float64\n",
       "AGR4                     float64\n",
       "AGR5                     float64\n",
       "AGR6                     float64\n",
       "AGR7                     float64\n",
       "AGR8                     float64\n",
       "AGR9                     float64\n",
       "AGR10                    float64\n",
       "CSN1                     float64\n",
       "CSN2                     float64\n",
       "CSN3                     float64\n",
       "CSN4                     float64\n",
       "CSN5                     float64\n",
       "CSN6                     float64\n",
       "CSN7                     float64\n",
       "CSN8                     float64\n",
       "CSN9                     float64\n",
       "CSN10                    float64\n",
       "OPN1                     float64\n",
       "OPN2                     float64\n",
       "OPN3                     float64\n",
       "OPN4                     float64\n",
       "OPN5                     float64\n",
       "OPN6                     float64\n",
       "OPN7                     float64\n",
       "OPN8                     float64\n",
       "OPN9                     float64\n",
       "OPN10                    float64\n",
       "dateload                  object\n",
       "introelapse              float64\n",
       "testelapse               float64\n",
       "endelapse                  int64\n",
       "country                   object\n",
       "lat_appx_lots_of_err      object\n",
       "long_appx_lots_of_err     object\n",
       "dtype: object"
      ]
     },
     "execution_count": 4,
     "metadata": {},
     "output_type": "execute_result"
    }
   ],
   "source": [
    "df.dtypes"
   ]
  },
  {
   "cell_type": "code",
   "execution_count": 5,
   "metadata": {},
   "outputs": [],
   "source": [
    "aux = df[['introelapse','testelapse','endelapse','lat_appx_lots_of_err','long_appx_lots_of_err']]"
   ]
  },
  {
   "cell_type": "code",
   "execution_count": 6,
   "metadata": {},
   "outputs": [
    {
     "name": "stderr",
     "output_type": "stream",
     "text": [
      "/home/diegoias/Documents/CieciaDatos/cdd/lib/python3.6/site-packages/ipykernel_launcher.py:1: SettingWithCopyWarning: \n",
      "A value is trying to be set on a copy of a slice from a DataFrame\n",
      "\n",
      "See the caveats in the documentation: http://pandas.pydata.org/pandas-docs/stable/user_guide/indexing.html#returning-a-view-versus-a-copy\n",
      "  \"\"\"Entry point for launching an IPython kernel.\n"
     ]
    }
   ],
   "source": [
    "aux.dropna(inplace = True)"
   ]
  },
  {
   "cell_type": "code",
   "execution_count": 7,
   "metadata": {},
   "outputs": [],
   "source": [
    "aux.reset_index(drop = True,inplace=True)"
   ]
  },
  {
   "cell_type": "code",
   "execution_count": 8,
   "metadata": {},
   "outputs": [
    {
     "data": {
      "text/html": [
       "<div>\n",
       "<style scoped>\n",
       "    .dataframe tbody tr th:only-of-type {\n",
       "        vertical-align: middle;\n",
       "    }\n",
       "\n",
       "    .dataframe tbody tr th {\n",
       "        vertical-align: top;\n",
       "    }\n",
       "\n",
       "    .dataframe thead th {\n",
       "        text-align: right;\n",
       "    }\n",
       "</style>\n",
       "<table border=\"1\" class=\"dataframe\">\n",
       "  <thead>\n",
       "    <tr style=\"text-align: right;\">\n",
       "      <th></th>\n",
       "      <th>introelapse</th>\n",
       "      <th>testelapse</th>\n",
       "      <th>endelapse</th>\n",
       "      <th>lat_appx_lots_of_err</th>\n",
       "      <th>long_appx_lots_of_err</th>\n",
       "    </tr>\n",
       "  </thead>\n",
       "  <tbody>\n",
       "    <tr>\n",
       "      <td>0</td>\n",
       "      <td>9.0</td>\n",
       "      <td>234.0</td>\n",
       "      <td>6</td>\n",
       "      <td>51.5448</td>\n",
       "      <td>0.1991</td>\n",
       "    </tr>\n",
       "    <tr>\n",
       "      <td>1</td>\n",
       "      <td>12.0</td>\n",
       "      <td>179.0</td>\n",
       "      <td>11</td>\n",
       "      <td>3.1698</td>\n",
       "      <td>101.706</td>\n",
       "    </tr>\n",
       "    <tr>\n",
       "      <td>2</td>\n",
       "      <td>3.0</td>\n",
       "      <td>186.0</td>\n",
       "      <td>7</td>\n",
       "      <td>54.9119</td>\n",
       "      <td>-1.3833</td>\n",
       "    </tr>\n",
       "    <tr>\n",
       "      <td>3</td>\n",
       "      <td>186.0</td>\n",
       "      <td>219.0</td>\n",
       "      <td>7</td>\n",
       "      <td>51.75</td>\n",
       "      <td>-1.25</td>\n",
       "    </tr>\n",
       "    <tr>\n",
       "      <td>4</td>\n",
       "      <td>8.0</td>\n",
       "      <td>315.0</td>\n",
       "      <td>17</td>\n",
       "      <td>1.0</td>\n",
       "      <td>38.0</td>\n",
       "    </tr>\n",
       "  </tbody>\n",
       "</table>\n",
       "</div>"
      ],
      "text/plain": [
       "   introelapse  testelapse  endelapse lat_appx_lots_of_err  \\\n",
       "0          9.0       234.0          6              51.5448   \n",
       "1         12.0       179.0         11               3.1698   \n",
       "2          3.0       186.0          7              54.9119   \n",
       "3        186.0       219.0          7                51.75   \n",
       "4          8.0       315.0         17                  1.0   \n",
       "\n",
       "  long_appx_lots_of_err  \n",
       "0                0.1991  \n",
       "1               101.706  \n",
       "2               -1.3833  \n",
       "3                 -1.25  \n",
       "4                  38.0  "
      ]
     },
     "execution_count": 8,
     "metadata": {},
     "output_type": "execute_result"
    }
   ],
   "source": [
    "aux.head()"
   ]
  },
  {
   "cell_type": "code",
   "execution_count": 9,
   "metadata": {},
   "outputs": [
    {
     "name": "stderr",
     "output_type": "stream",
     "text": [
      "/home/diegoias/Documents/CieciaDatos/cdd/lib/python3.6/site-packages/pandas/core/generic.py:6786: SettingWithCopyWarning: \n",
      "A value is trying to be set on a copy of a slice from a DataFrame\n",
      "\n",
      "See the caveats in the documentation: http://pandas.pydata.org/pandas-docs/stable/user_guide/indexing.html#returning-a-view-versus-a-copy\n",
      "  self._update_inplace(new_data)\n"
     ]
    }
   ],
   "source": [
    "aux.lat_appx_lots_of_err.replace({\"NONE\":np.nan},inplace=True)\n",
    "aux.long_appx_lots_of_err.replace({\"NONE\":np.nan},inplace=True)"
   ]
  },
  {
   "cell_type": "code",
   "execution_count": 10,
   "metadata": {},
   "outputs": [
    {
     "name": "stderr",
     "output_type": "stream",
     "text": [
      "/home/diegoias/Documents/CieciaDatos/cdd/lib/python3.6/site-packages/ipykernel_launcher.py:1: SettingWithCopyWarning: \n",
      "A value is trying to be set on a copy of a slice from a DataFrame\n",
      "\n",
      "See the caveats in the documentation: http://pandas.pydata.org/pandas-docs/stable/user_guide/indexing.html#returning-a-view-versus-a-copy\n",
      "  \"\"\"Entry point for launching an IPython kernel.\n"
     ]
    }
   ],
   "source": [
    "aux.dropna(inplace = True)"
   ]
  },
  {
   "cell_type": "code",
   "execution_count": 11,
   "metadata": {},
   "outputs": [],
   "source": [
    "aux.reset_index(drop = True,inplace=True)"
   ]
  },
  {
   "cell_type": "code",
   "execution_count": 12,
   "metadata": {},
   "outputs": [],
   "source": [
    "aux = aux.astype(float)"
   ]
  },
  {
   "cell_type": "code",
   "execution_count": 13,
   "metadata": {},
   "outputs": [
    {
     "data": {
      "image/png": "[encoded data removed]",
      "text/plain": [
       "<Figure size 864x720 with 2 Axes>"
      ]
     },
     "metadata": {
      "needs_background": "light"
     },
     "output_type": "display_data"
    }
   ],
   "source": [
    "plt.figure(figsize=(12,10))\n",
    "cor = aux.corr()\n",
    "sns.heatmap(cor, annot=True, cmap=plt.cm.Reds)\n",
    "plt.show()"
   ]
  },
  {
   "cell_type": "code",
   "execution_count": 14,
   "metadata": {},
   "outputs": [
    {
     "data": {
      "text/plain": [
       "testelapse    1.0\n",
       "Name: testelapse, dtype: float64"
      ]
     },
     "execution_count": 14,
     "metadata": {},
     "output_type": "execute_result"
    }
   ],
   "source": [
    "cor_target = abs(cor['testelapse'])\n",
    "relevant_features = cor_target[cor_target > 0.5]\n",
    "relevant_features"
   ]
  },
  {
   "cell_type": "markdown",
   "metadata": {},
   "source": [
    "no existen variables con este dataset ademas de por que la mayoria de las variables eran categoricas"
   ]
  },
  {
   "cell_type": "code",
   "execution_count": 15,
   "metadata": {},
   "outputs": [],
   "source": [
    "var = list(aux.columns)\n",
    "var = [x for x in var if x != 'testelapse']"
   ]
  },
  {
   "cell_type": "code",
   "execution_count": 16,
   "metadata": {},
   "outputs": [],
   "source": [
    "X = aux[var]\n",
    "y = aux['testelapse']"
   ]
  },
  {
   "cell_type": "code",
   "execution_count": 17,
   "metadata": {},
   "outputs": [
    {
     "name": "stderr",
     "output_type": "stream",
     "text": [
      "/home/diegoias/Documents/CieciaDatos/cdd/lib/python3.6/site-packages/numpy/core/fromnumeric.py:2495: FutureWarning: Method .ptp is deprecated and will be removed in a future version. Use numpy.ptp instead.\n",
      "  return ptp(axis=axis, out=out, **kwargs)\n"
     ]
    },
    {
     "data": {
      "text/plain": [
       "long_appx_lots_of_err    1.959526e-01\n",
       "lat_appx_lots_of_err     8.563420e-02\n",
       "endelapse                7.027144e-03\n",
       "const                    1.790288e-33\n",
       "introelapse              0.000000e+00\n",
       "dtype: float64"
      ]
     },
     "execution_count": 17,
     "metadata": {},
     "output_type": "execute_result"
    }
   ],
   "source": [
    "#Backward Elimination\n",
    "x_1 = sm.add_constant(X)\n",
    "model = sm.OLS(y,x_1).fit()\n",
    "model.pvalues.sort_values(ascending=False)"
   ]
  },
  {
   "cell_type": "code",
   "execution_count": 18,
   "metadata": {},
   "outputs": [
    {
     "name": "stdout",
     "output_type": "stream",
     "text": [
      "['introelapse', 'endelapse']\n"
     ]
    }
   ],
   "source": [
    "#Backward Elimination\n",
    "cols = list(X.columns)\n",
    "pmax = 1\n",
    "\n",
    "while (len(cols)>0):\n",
    "    p = []\n",
    "    X_1 = X[cols]\n",
    "    X_1 = sm.add_constant(X_1)\n",
    "    model = sm.OLS(y,X_1).fit()\n",
    "    p = pd.Series(model.pvalues.values[1:],index = cols)      \n",
    "    pmax = max(p)\n",
    "    feature_with_p_max = p.idxmax()\n",
    "    if(pmax > 0.05):\n",
    "        cols.remove(feature_with_p_max)\n",
    "    else:\n",
    "        break\n",
    "        \n",
    "selected_features_BE = cols\n",
    "print(selected_features_BE)"
   ]
  },
  {
   "cell_type": "code",
   "execution_count": 19,
   "metadata": {},
   "outputs": [
    {
     "name": "stdout",
     "output_type": "stream",
     "text": [
      "[ True  True  True  True]\n",
      "[1 1 1 1]\n"
     ]
    }
   ],
   "source": [
    "model = LinearRegression()\n",
    "#Metodo RFE\n",
    "rfe = RFE(model,7,verbose=1)\n",
    "X_rfe = rfe.fit_transform(X,y)\n",
    "\n",
    "#Encontrando el modelo de los datos\n",
    "model.fit(X_rfe,y)\n",
    "print(rfe.support_)\n",
    "print(rfe.ranking_)"
   ]
  },
  {
   "cell_type": "code",
   "execution_count": 20,
   "metadata": {},
   "outputs": [
    {
     "name": "stdout",
     "output_type": "stream",
     "text": [
      "0\n",
      "1\n",
      "2\n",
      "Numero optimo de caracteristicas: 3\n",
      "Desempeño con 3 caracteristicas: 0.003652\n"
     ]
    }
   ],
   "source": [
    "#numero de caracteristicas\n",
    "nof_list = np.arange(1,4)\n",
    "high_score = 0\n",
    "\n",
    "#proceso para almacenar las caracteristicas óptimas\n",
    "nof = 0\n",
    "score_list =[]\n",
    "\n",
    "for n in range(len(nof_list)):\n",
    "    print(n)\n",
    "    X_train, X_test, y_train, y_test = train_test_split(X,y, test_size = 0.3, random_state = 0)\n",
    "    model = LinearRegression()\n",
    "    rfe = RFE(model,nof_list[n])\n",
    "    X_train_rfe = rfe.fit_transform(X_train,y_train)\n",
    "    X_test_rfe = rfe.transform(X_test)\n",
    "    model.fit(X_train_rfe,y_train)\n",
    "    score =model.score(X_test_rfe,y_test)\n",
    "    score_list.append(score)\n",
    "    if(score > high_score):\n",
    "        high_score = score\n",
    "        nof = nof_list[n]\n",
    "print(\"Numero optimo de caracteristicas: %d\"%nof)\n",
    "print(\"Desempeño con %d caracteristicas: %f\"%(nof,high_score))"
   ]
  },
  {
   "cell_type": "code",
   "execution_count": 24,
   "metadata": {},
   "outputs": [
    {
     "name": "stdout",
     "output_type": "stream",
     "text": [
      "Index(['introelapse', 'lat_appx_lots_of_err', 'long_appx_lots_of_err'], dtype='object')\n"
     ]
    }
   ],
   "source": [
    "cols = list(X.columns)\n",
    "model = LinearRegression()\n",
    "rfe = RFE(model,3)\n",
    "X_rfe = rfe.fit_transform(X,y)\n",
    "\n",
    "model.fit(X_rfe,y)\n",
    "temp = pd.Series(rfe.support_,index=cols)\n",
    "selected_features_rfe = temp[temp==True].index\n",
    "\n",
    "print(selected_features_rfe)"
   ]
  }
 ],
 "metadata": {
  "kernelspec": {
   "display_name": "Python 3",
   "language": "python",
   "name": "python3"
  },
  "language_info": {
   "codemirror_mode": {
    "name": "ipython",
    "version": 3
   },
   "file_extension": ".py",
   "mimetype": "text/x-python",
   "name": "python",
   "nbconvert_exporter": "python",
   "pygments_lexer": "ipython3",
   "version": "3.6.8"
  }
 },
 "nbformat": 4,
 "nbformat_minor": 2
}
